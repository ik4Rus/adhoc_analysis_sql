{
 "cells": [
  {
   "cell_type": "markdown",
   "metadata": {},
   "source": [
    "# Ad hoc analysis of margin data"
   ]
  },
  {
   "cell_type": "code",
   "execution_count": null,
   "metadata": {},
   "outputs": [],
   "source": [
    "from google.cloud.bigquery import magics\n",
    "from google.oauth2 import service_account\n",
    "credentials = (service_account\n",
    "               .Credentials.from_service_account_file(\n",
    "...         '/path/to/key.json'))\n",
    "magics.context.credentials = credentials"
   ]
  },
  {
   "cell_type": "code",
   "execution_count": 1,
   "metadata": {},
   "outputs": [
    {
     "name": "stderr",
     "output_type": "stream",
     "text": [
      "ERROR:root:Cell magic `%%bigquery` not found.\n"
     ]
    }
   ],
   "source": [
    "%%bigquery\n",
    "# 1) Create margin info data\n",
    "WITH info_tab AS\n",
    "(SELECT tab1.*, \n",
    "        tab2.department,\n",
    "        tab2.domainName,\n",
    "        tab2.mainProductGroup,\n",
    "        tab2.productGroup\n",
    "FROM \n",
    "    (SELECT   prod_id AS PROD_ID, \n",
    "              sales_val_net AS SUM_REVENUE, \n",
    "              sales_qty AS SUM_QTY,\n",
    "              sales_val_net-net_net_val AS SUM_PROFIT, # MARGE\n",
    "              1-SAFE_DIVIDE(net_net_val, sales_val_net) AS REL_MARGIN\n",
    "    FROM `v135-5683-margin.v_margin_data.v_pp_sales_act_val` \n",
    "    WHERE sales_val_net > 0 AND \n",
    "          sales_qty > 0) tab1 \n",
    "LEFT JOIN \n",
    "      (SELECT\n",
    "      prodid,\n",
    "      department,\n",
    "      domainName,\n",
    "      mainProductGroup,\n",
    "      productGroup\n",
    "    FROM\n",
    "      `fcyvtaposcsd.ats_edl.vProducts`\n",
    "    WHERE\n",
    "      country = \"DE\") tab2\n",
    "ON tab1.PROD_ID = tab2.prodid\n",
    "WHERE tab2.department <> \"028 - MOBILE PHONES\") \n",
    "\n",
    "SELECT  department, \n",
    "        SUM(SUM_REVENUE) AS SUM_REVENUE, \n",
    "        SUM(SUM_QTY) AS SUM_QTY, \n",
    "        SUM(SUM_PROFIT)/SUM(SUM_REVENUE) AS MEAN_MARGIN, \n",
    "        SUM(IF(REL_MARGIN<0, SUM_PROFIT, 0)) AS SUM_PROFIT_NEG_MARGIN,\n",
    "        SUM(IF(REL_MARGIN<0, SUM_REVENUE, 0)) AS SUM_REVENUE_NEG_MARGIN, \n",
    "        SUM(IF(REL_MARGIN>0, SUM_PROFIT, 0)) AS SUM_PROFIT_POS_MARGIN, \n",
    "        SUM(IF(REL_MARGIN>0, SUM_REVENUE, 0)) AS SUM_REVENUE_POS_MARGIN, \n",
    "        SUM(IF(REL_MARGIN=0, SUM_REVENUE, 0)) AS SUM_REVENUE_ZERO_MARGIN,         \n",
    "        ANY_VALUE(PERMARGIN_02) AS PERMARGIN_02, \n",
    "        ANY_VALUE(PERMARGIN_08) AS PERMARGIN_08, \n",
    "        MIN(REL_MARGIN) AS MIN_REL_MARGIN, \n",
    "        MAX(REL_MARGIN) AS MAX_REL_MARGIN\n",
    "FROM\n",
    "    (SELECT *,\n",
    "            PERCENTILE_CONT(REL_MARGIN,0.2) OVER (PARTITION BY department) AS PERMARGIN_02, \n",
    "            PERCENTILE_CONT(REL_MARGIN,0.8) OVER (PARTITION BY department) AS PERMARGIN_08      \n",
    "    FROM\n",
    "        info_tab)\n",
    "GROUP BY department"
   ]
  }
 ],
 "metadata": {
  "kernelspec": {
   "display_name": "Python 3",
   "language": "python",
   "name": "python3"
  },
  "language_info": {
   "codemirror_mode": {
    "name": "ipython",
    "version": 3
   },
   "file_extension": ".py",
   "mimetype": "text/x-python",
   "name": "python",
   "nbconvert_exporter": "python",
   "pygments_lexer": "ipython3",
   "version": "3.6.3"
  }
 },
 "nbformat": 4,
 "nbformat_minor": 2
}
